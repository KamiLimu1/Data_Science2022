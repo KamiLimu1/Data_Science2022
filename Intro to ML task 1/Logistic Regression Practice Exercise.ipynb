{
 "cells": [
  {
   "cell_type": "markdown",
   "metadata": {},
   "source": [
    "# <font color='#31394d'> Logistic Regression Practice Exercise </font>\n",
    "\n",
    "For this exercise we are going to use the heart dataset to predict whether or not someone will get a heart attack. You can read more about the dataset here: https://archive.ics.uci.edu/ml/datasets/Heart+Disease). The dataset is provided as a csv file in the `data` folder. \n",
    "\n",
    "🚀 <font color='#d9c4b1'> Exercise: </font> Start by reading in the dataset from the `data` folder and having a look at the data. Don't forget to import the necessary packages!"
   ]
  },
  {
   "cell_type": "code",
   "execution_count": 1,
   "metadata": {},
   "outputs": [],
   "source": [
    "import pandas as pd\n",
    "import numpy as np"
   ]
  },
  {
   "cell_type": "code",
   "execution_count": 2,
   "metadata": {},
   "outputs": [],
   "source": [
    "data=pd.read_csv('data/heart.csv')"
   ]
  },
  {
   "cell_type": "code",
   "execution_count": 3,
   "metadata": {},
   "outputs": [
    {
     "data": {
      "text/html": [
       "<div>\n",
       "<style scoped>\n",
       "    .dataframe tbody tr th:only-of-type {\n",
       "        vertical-align: middle;\n",
       "    }\n",
       "\n",
       "    .dataframe tbody tr th {\n",
       "        vertical-align: top;\n",
       "    }\n",
       "\n",
       "    .dataframe thead th {\n",
       "        text-align: right;\n",
       "    }\n",
       "</style>\n",
       "<table border=\"1\" class=\"dataframe\">\n",
       "  <thead>\n",
       "    <tr style=\"text-align: right;\">\n",
       "      <th></th>\n",
       "      <th>X1</th>\n",
       "      <th>X2</th>\n",
       "      <th>X3</th>\n",
       "      <th>X4</th>\n",
       "      <th>X5</th>\n",
       "      <th>X6</th>\n",
       "      <th>X7</th>\n",
       "      <th>X8</th>\n",
       "      <th>X9</th>\n",
       "      <th>X10</th>\n",
       "      <th>X11</th>\n",
       "      <th>X12</th>\n",
       "      <th>Y</th>\n",
       "    </tr>\n",
       "  </thead>\n",
       "  <tbody>\n",
       "    <tr>\n",
       "      <th>129</th>\n",
       "      <td>62</td>\n",
       "      <td>0</td>\n",
       "      <td>4</td>\n",
       "      <td>124</td>\n",
       "      <td>209</td>\n",
       "      <td>0</td>\n",
       "      <td>0</td>\n",
       "      <td>163</td>\n",
       "      <td>0</td>\n",
       "      <td>0.0</td>\n",
       "      <td>1</td>\n",
       "      <td>0.0</td>\n",
       "      <td>False</td>\n",
       "    </tr>\n",
       "    <tr>\n",
       "      <th>247</th>\n",
       "      <td>62</td>\n",
       "      <td>1</td>\n",
       "      <td>2</td>\n",
       "      <td>128</td>\n",
       "      <td>208</td>\n",
       "      <td>1</td>\n",
       "      <td>2</td>\n",
       "      <td>140</td>\n",
       "      <td>0</td>\n",
       "      <td>0.0</td>\n",
       "      <td>1</td>\n",
       "      <td>0.0</td>\n",
       "      <td>False</td>\n",
       "    </tr>\n",
       "    <tr>\n",
       "      <th>65</th>\n",
       "      <td>60</td>\n",
       "      <td>1</td>\n",
       "      <td>4</td>\n",
       "      <td>145</td>\n",
       "      <td>282</td>\n",
       "      <td>0</td>\n",
       "      <td>2</td>\n",
       "      <td>142</td>\n",
       "      <td>1</td>\n",
       "      <td>2.8</td>\n",
       "      <td>2</td>\n",
       "      <td>2.0</td>\n",
       "      <td>True</td>\n",
       "    </tr>\n",
       "    <tr>\n",
       "      <th>22</th>\n",
       "      <td>58</td>\n",
       "      <td>1</td>\n",
       "      <td>2</td>\n",
       "      <td>120</td>\n",
       "      <td>284</td>\n",
       "      <td>0</td>\n",
       "      <td>2</td>\n",
       "      <td>160</td>\n",
       "      <td>0</td>\n",
       "      <td>1.8</td>\n",
       "      <td>2</td>\n",
       "      <td>0.0</td>\n",
       "      <td>True</td>\n",
       "    </tr>\n",
       "    <tr>\n",
       "      <th>8</th>\n",
       "      <td>63</td>\n",
       "      <td>1</td>\n",
       "      <td>4</td>\n",
       "      <td>130</td>\n",
       "      <td>254</td>\n",
       "      <td>0</td>\n",
       "      <td>2</td>\n",
       "      <td>147</td>\n",
       "      <td>0</td>\n",
       "      <td>1.4</td>\n",
       "      <td>2</td>\n",
       "      <td>1.0</td>\n",
       "      <td>True</td>\n",
       "    </tr>\n",
       "    <tr>\n",
       "      <th>99</th>\n",
       "      <td>48</td>\n",
       "      <td>1</td>\n",
       "      <td>4</td>\n",
       "      <td>122</td>\n",
       "      <td>222</td>\n",
       "      <td>0</td>\n",
       "      <td>2</td>\n",
       "      <td>186</td>\n",
       "      <td>0</td>\n",
       "      <td>0.0</td>\n",
       "      <td>1</td>\n",
       "      <td>0.0</td>\n",
       "      <td>False</td>\n",
       "    </tr>\n",
       "    <tr>\n",
       "      <th>146</th>\n",
       "      <td>57</td>\n",
       "      <td>1</td>\n",
       "      <td>4</td>\n",
       "      <td>165</td>\n",
       "      <td>289</td>\n",
       "      <td>1</td>\n",
       "      <td>2</td>\n",
       "      <td>124</td>\n",
       "      <td>0</td>\n",
       "      <td>1.0</td>\n",
       "      <td>2</td>\n",
       "      <td>3.0</td>\n",
       "      <td>True</td>\n",
       "    </tr>\n",
       "    <tr>\n",
       "      <th>228</th>\n",
       "      <td>52</td>\n",
       "      <td>0</td>\n",
       "      <td>3</td>\n",
       "      <td>136</td>\n",
       "      <td>196</td>\n",
       "      <td>0</td>\n",
       "      <td>2</td>\n",
       "      <td>169</td>\n",
       "      <td>0</td>\n",
       "      <td>0.1</td>\n",
       "      <td>2</td>\n",
       "      <td>0.0</td>\n",
       "      <td>False</td>\n",
       "    </tr>\n",
       "    <tr>\n",
       "      <th>281</th>\n",
       "      <td>35</td>\n",
       "      <td>1</td>\n",
       "      <td>2</td>\n",
       "      <td>122</td>\n",
       "      <td>192</td>\n",
       "      <td>0</td>\n",
       "      <td>0</td>\n",
       "      <td>174</td>\n",
       "      <td>0</td>\n",
       "      <td>0.0</td>\n",
       "      <td>1</td>\n",
       "      <td>0.0</td>\n",
       "      <td>False</td>\n",
       "    </tr>\n",
       "    <tr>\n",
       "      <th>240</th>\n",
       "      <td>49</td>\n",
       "      <td>0</td>\n",
       "      <td>4</td>\n",
       "      <td>130</td>\n",
       "      <td>269</td>\n",
       "      <td>0</td>\n",
       "      <td>0</td>\n",
       "      <td>163</td>\n",
       "      <td>0</td>\n",
       "      <td>0.0</td>\n",
       "      <td>1</td>\n",
       "      <td>0.0</td>\n",
       "      <td>False</td>\n",
       "    </tr>\n",
       "  </tbody>\n",
       "</table>\n",
       "</div>"
      ],
      "text/plain": [
       "     X1  X2  X3   X4   X5  X6  X7   X8  X9  X10  X11  X12      Y\n",
       "129  62   0   4  124  209   0   0  163   0  0.0    1  0.0  False\n",
       "247  62   1   2  128  208   1   2  140   0  0.0    1  0.0  False\n",
       "65   60   1   4  145  282   0   2  142   1  2.8    2  2.0   True\n",
       "22   58   1   2  120  284   0   2  160   0  1.8    2  0.0   True\n",
       "8    63   1   4  130  254   0   2  147   0  1.4    2  1.0   True\n",
       "99   48   1   4  122  222   0   2  186   0  0.0    1  0.0  False\n",
       "146  57   1   4  165  289   1   2  124   0  1.0    2  3.0   True\n",
       "228  52   0   3  136  196   0   2  169   0  0.1    2  0.0  False\n",
       "281  35   1   2  122  192   0   0  174   0  0.0    1  0.0  False\n",
       "240  49   0   4  130  269   0   0  163   0  0.0    1  0.0  False"
      ]
     },
     "execution_count": 3,
     "metadata": {},
     "output_type": "execute_result"
    }
   ],
   "source": [
    "data.sample(10)"
   ]
  },
  {
   "cell_type": "markdown",
   "metadata": {},
   "source": [
    "<!-- ### Attributes\n",
    "- X1: age in years\n",
    "- X2: sex (1 = male; 0 = female)\n",
    "- X3: chest pain type\n",
    "    - Value 1: typical angina\n",
    "    - Value 2: atypical angina\n",
    "    - Value 3: non-anginal pain\n",
    "    - Value 4: asymptomatic\n",
    "- X4: resting blood pressure (in mm Hg on admission to the hospital)\n",
    "- X5: serum cholestoral in mg/dl\n",
    "- X6: fasting blood sugar > 120 mg/dl (1 = true; 0 = false)\n",
    "- X7: resting electrocardiographic results\n",
    "    - Value 0: normal\n",
    "    - Value 1: having ST-T wave abnormality (T wave inversions and/or ST elevation or depression of > 0.05 mV)\n",
    "    - Value 2: showing probable or definite left ventricular hypertrophy by Estes' criteria\n",
    "- X8: maximum heart rate achieved\n",
    "- X9: exercise induced angina (1 = yes; 0 = no)\n",
    "- X10: oldpeak = ST depression induced by exercise relative to rest\n",
    "- x11: slope: the slope of the peak exercise ST segment\n",
    "    - Value 1: upsloping\n",
    "    - Value 2: flat\n",
    "    - Value 3: downsloping\n",
    "- X12: number of major vessels (0-3) colored by flourosopy\n",
    "- Y: num: diagnosis of heart disease (angiographic disease status)\n",
    "    - Value 0: < 50% diameter narrowing\n",
    "    - Value 1: > 50% diameter narrowing -->"
   ]
  },
  {
   "cell_type": "code",
   "execution_count": 4,
   "metadata": {},
   "outputs": [
    {
     "name": "stdout",
     "output_type": "stream",
     "text": [
      "<class 'pandas.core.frame.DataFrame'>\n",
      "RangeIndex: 299 entries, 0 to 298\n",
      "Data columns (total 13 columns):\n",
      " #   Column  Non-Null Count  Dtype  \n",
      "---  ------  --------------  -----  \n",
      " 0   X1      299 non-null    int64  \n",
      " 1   X2      299 non-null    int64  \n",
      " 2   X3      299 non-null    int64  \n",
      " 3   X4      299 non-null    int64  \n",
      " 4   X5      299 non-null    int64  \n",
      " 5   X6      299 non-null    int64  \n",
      " 6   X7      299 non-null    int64  \n",
      " 7   X8      299 non-null    int64  \n",
      " 8   X9      299 non-null    int64  \n",
      " 9   X10     299 non-null    float64\n",
      " 10  X11     299 non-null    int64  \n",
      " 11  X12     299 non-null    float64\n",
      " 12  Y       299 non-null    bool   \n",
      "dtypes: bool(1), float64(2), int64(10)\n",
      "memory usage: 28.4 KB\n"
     ]
    }
   ],
   "source": [
    "data.info()"
   ]
  },
  {
   "cell_type": "code",
   "execution_count": 5,
   "metadata": {},
   "outputs": [
    {
     "data": {
      "text/html": [
       "<div>\n",
       "<style scoped>\n",
       "    .dataframe tbody tr th:only-of-type {\n",
       "        vertical-align: middle;\n",
       "    }\n",
       "\n",
       "    .dataframe tbody tr th {\n",
       "        vertical-align: top;\n",
       "    }\n",
       "\n",
       "    .dataframe thead th {\n",
       "        text-align: right;\n",
       "    }\n",
       "</style>\n",
       "<table border=\"1\" class=\"dataframe\">\n",
       "  <thead>\n",
       "    <tr style=\"text-align: right;\">\n",
       "      <th></th>\n",
       "      <th>X1</th>\n",
       "      <th>X2</th>\n",
       "      <th>X3</th>\n",
       "      <th>X4</th>\n",
       "      <th>X5</th>\n",
       "      <th>X6</th>\n",
       "      <th>X7</th>\n",
       "      <th>X8</th>\n",
       "      <th>X9</th>\n",
       "      <th>X10</th>\n",
       "      <th>X11</th>\n",
       "      <th>X12</th>\n",
       "    </tr>\n",
       "  </thead>\n",
       "  <tbody>\n",
       "    <tr>\n",
       "      <th>count</th>\n",
       "      <td>299.000000</td>\n",
       "      <td>299.000000</td>\n",
       "      <td>299.000000</td>\n",
       "      <td>299.000000</td>\n",
       "      <td>299.000000</td>\n",
       "      <td>299.000000</td>\n",
       "      <td>299.000000</td>\n",
       "      <td>299.000000</td>\n",
       "      <td>299.000000</td>\n",
       "      <td>299.000000</td>\n",
       "      <td>299.000000</td>\n",
       "      <td>299.000000</td>\n",
       "    </tr>\n",
       "    <tr>\n",
       "      <th>mean</th>\n",
       "      <td>54.528428</td>\n",
       "      <td>0.675585</td>\n",
       "      <td>3.160535</td>\n",
       "      <td>131.668896</td>\n",
       "      <td>247.100334</td>\n",
       "      <td>0.147157</td>\n",
       "      <td>0.996656</td>\n",
       "      <td>149.505017</td>\n",
       "      <td>0.327759</td>\n",
       "      <td>1.051839</td>\n",
       "      <td>1.602007</td>\n",
       "      <td>0.672241</td>\n",
       "    </tr>\n",
       "    <tr>\n",
       "      <th>std</th>\n",
       "      <td>9.020950</td>\n",
       "      <td>0.468941</td>\n",
       "      <td>0.962893</td>\n",
       "      <td>17.705668</td>\n",
       "      <td>51.914779</td>\n",
       "      <td>0.354856</td>\n",
       "      <td>0.994948</td>\n",
       "      <td>22.954927</td>\n",
       "      <td>0.470183</td>\n",
       "      <td>1.163809</td>\n",
       "      <td>0.617526</td>\n",
       "      <td>0.937438</td>\n",
       "    </tr>\n",
       "    <tr>\n",
       "      <th>min</th>\n",
       "      <td>29.000000</td>\n",
       "      <td>0.000000</td>\n",
       "      <td>1.000000</td>\n",
       "      <td>94.000000</td>\n",
       "      <td>126.000000</td>\n",
       "      <td>0.000000</td>\n",
       "      <td>0.000000</td>\n",
       "      <td>71.000000</td>\n",
       "      <td>0.000000</td>\n",
       "      <td>0.000000</td>\n",
       "      <td>1.000000</td>\n",
       "      <td>0.000000</td>\n",
       "    </tr>\n",
       "    <tr>\n",
       "      <th>25%</th>\n",
       "      <td>48.000000</td>\n",
       "      <td>0.000000</td>\n",
       "      <td>3.000000</td>\n",
       "      <td>120.000000</td>\n",
       "      <td>211.000000</td>\n",
       "      <td>0.000000</td>\n",
       "      <td>0.000000</td>\n",
       "      <td>133.000000</td>\n",
       "      <td>0.000000</td>\n",
       "      <td>0.000000</td>\n",
       "      <td>1.000000</td>\n",
       "      <td>0.000000</td>\n",
       "    </tr>\n",
       "    <tr>\n",
       "      <th>50%</th>\n",
       "      <td>56.000000</td>\n",
       "      <td>1.000000</td>\n",
       "      <td>3.000000</td>\n",
       "      <td>130.000000</td>\n",
       "      <td>242.000000</td>\n",
       "      <td>0.000000</td>\n",
       "      <td>1.000000</td>\n",
       "      <td>153.000000</td>\n",
       "      <td>0.000000</td>\n",
       "      <td>0.800000</td>\n",
       "      <td>2.000000</td>\n",
       "      <td>0.000000</td>\n",
       "    </tr>\n",
       "    <tr>\n",
       "      <th>75%</th>\n",
       "      <td>61.000000</td>\n",
       "      <td>1.000000</td>\n",
       "      <td>4.000000</td>\n",
       "      <td>140.000000</td>\n",
       "      <td>275.500000</td>\n",
       "      <td>0.000000</td>\n",
       "      <td>2.000000</td>\n",
       "      <td>165.500000</td>\n",
       "      <td>1.000000</td>\n",
       "      <td>1.600000</td>\n",
       "      <td>2.000000</td>\n",
       "      <td>1.000000</td>\n",
       "    </tr>\n",
       "    <tr>\n",
       "      <th>max</th>\n",
       "      <td>77.000000</td>\n",
       "      <td>1.000000</td>\n",
       "      <td>4.000000</td>\n",
       "      <td>200.000000</td>\n",
       "      <td>564.000000</td>\n",
       "      <td>1.000000</td>\n",
       "      <td>2.000000</td>\n",
       "      <td>202.000000</td>\n",
       "      <td>1.000000</td>\n",
       "      <td>6.200000</td>\n",
       "      <td>3.000000</td>\n",
       "      <td>3.000000</td>\n",
       "    </tr>\n",
       "  </tbody>\n",
       "</table>\n",
       "</div>"
      ],
      "text/plain": [
       "               X1          X2          X3          X4          X5          X6  \\\n",
       "count  299.000000  299.000000  299.000000  299.000000  299.000000  299.000000   \n",
       "mean    54.528428    0.675585    3.160535  131.668896  247.100334    0.147157   \n",
       "std      9.020950    0.468941    0.962893   17.705668   51.914779    0.354856   \n",
       "min     29.000000    0.000000    1.000000   94.000000  126.000000    0.000000   \n",
       "25%     48.000000    0.000000    3.000000  120.000000  211.000000    0.000000   \n",
       "50%     56.000000    1.000000    3.000000  130.000000  242.000000    0.000000   \n",
       "75%     61.000000    1.000000    4.000000  140.000000  275.500000    0.000000   \n",
       "max     77.000000    1.000000    4.000000  200.000000  564.000000    1.000000   \n",
       "\n",
       "               X7          X8          X9         X10         X11         X12  \n",
       "count  299.000000  299.000000  299.000000  299.000000  299.000000  299.000000  \n",
       "mean     0.996656  149.505017    0.327759    1.051839    1.602007    0.672241  \n",
       "std      0.994948   22.954927    0.470183    1.163809    0.617526    0.937438  \n",
       "min      0.000000   71.000000    0.000000    0.000000    1.000000    0.000000  \n",
       "25%      0.000000  133.000000    0.000000    0.000000    1.000000    0.000000  \n",
       "50%      1.000000  153.000000    0.000000    0.800000    2.000000    0.000000  \n",
       "75%      2.000000  165.500000    1.000000    1.600000    2.000000    1.000000  \n",
       "max      2.000000  202.000000    1.000000    6.200000    3.000000    3.000000  "
      ]
     },
     "execution_count": 5,
     "metadata": {},
     "output_type": "execute_result"
    }
   ],
   "source": [
    "data.describe()"
   ]
  },
  {
   "cell_type": "markdown",
   "metadata": {},
   "source": [
    "#### Observations\n",
    "- No null values.\n",
    "- 12 numeric features and 1 categorical feature i.e the predicted feature"
   ]
  },
  {
   "cell_type": "markdown",
   "metadata": {},
   "source": [
    "### Split the data for training and testing"
   ]
  },
  {
   "cell_type": "code",
   "execution_count": 6,
   "metadata": {},
   "outputs": [],
   "source": [
    "from sklearn.model_selection import train_test_split\n",
    "X = data.drop(['Y'], axis=1)\n",
    "y= data[['Y']]\n",
    "X_train,X_test,y_train,y_test=train_test_split(X,y,test_size=0.3,random_state=123)"
   ]
  },
  {
   "cell_type": "markdown",
   "metadata": {},
   "source": [
    "### Standardize the features"
   ]
  },
  {
   "cell_type": "markdown",
   "metadata": {},
   "source": [
    "🚀 <font color='#d9c4b1'> Exercise: </font> Now standardize the features. You can learn more about standardization in the `Logistic Regression.ipynb` notebook that we used during the session!"
   ]
  },
  {
   "cell_type": "code",
   "execution_count": 7,
   "metadata": {},
   "outputs": [],
   "source": [
    "from sklearn.preprocessing import StandardScaler\n",
    "scaler = StandardScaler()\n",
    "\n",
    "X_train = scaler.fit_transform(X_train)\n",
    "X_test = scaler.transform(X_test)"
   ]
  },
  {
   "cell_type": "code",
   "execution_count": 8,
   "metadata": {},
   "outputs": [
    {
     "data": {
      "text/html": [
       "<div>\n",
       "<style scoped>\n",
       "    .dataframe tbody tr th:only-of-type {\n",
       "        vertical-align: middle;\n",
       "    }\n",
       "\n",
       "    .dataframe tbody tr th {\n",
       "        vertical-align: top;\n",
       "    }\n",
       "\n",
       "    .dataframe thead th {\n",
       "        text-align: right;\n",
       "    }\n",
       "</style>\n",
       "<table border=\"1\" class=\"dataframe\">\n",
       "  <thead>\n",
       "    <tr style=\"text-align: right;\">\n",
       "      <th></th>\n",
       "      <th>X1</th>\n",
       "      <th>X2</th>\n",
       "      <th>X3</th>\n",
       "      <th>X4</th>\n",
       "      <th>X5</th>\n",
       "      <th>X6</th>\n",
       "      <th>X7</th>\n",
       "      <th>X8</th>\n",
       "      <th>X9</th>\n",
       "      <th>X10</th>\n",
       "      <th>X11</th>\n",
       "      <th>X12</th>\n",
       "    </tr>\n",
       "  </thead>\n",
       "  <tbody>\n",
       "    <tr>\n",
       "      <th>0</th>\n",
       "      <td>1.735199</td>\n",
       "      <td>0.679366</td>\n",
       "      <td>-1.361238</td>\n",
       "      <td>1.334799</td>\n",
       "      <td>-0.007679</td>\n",
       "      <td>-0.401386</td>\n",
       "      <td>0.997663</td>\n",
       "      <td>-0.268800</td>\n",
       "      <td>-0.702038</td>\n",
       "      <td>-0.882900</td>\n",
       "      <td>-0.974555</td>\n",
       "      <td>-0.725351</td>\n",
       "    </tr>\n",
       "    <tr>\n",
       "      <th>1</th>\n",
       "      <td>-1.114978</td>\n",
       "      <td>-1.471960</td>\n",
       "      <td>-1.361238</td>\n",
       "      <td>-0.118768</td>\n",
       "      <td>-0.210591</td>\n",
       "      <td>-0.401386</td>\n",
       "      <td>0.997663</td>\n",
       "      <td>1.125875</td>\n",
       "      <td>-0.702038</td>\n",
       "      <td>-0.392356</td>\n",
       "      <td>0.592230</td>\n",
       "      <td>-0.725351</td>\n",
       "    </tr>\n",
       "    <tr>\n",
       "      <th>2</th>\n",
       "      <td>0.253107</td>\n",
       "      <td>0.679366</td>\n",
       "      <td>-1.361238</td>\n",
       "      <td>-0.454206</td>\n",
       "      <td>0.287467</td>\n",
       "      <td>-0.401386</td>\n",
       "      <td>-1.016941</td>\n",
       "      <td>-0.355968</td>\n",
       "      <td>-0.702038</td>\n",
       "      <td>-0.637628</td>\n",
       "      <td>-0.974555</td>\n",
       "      <td>-0.725351</td>\n",
       "    </tr>\n",
       "    <tr>\n",
       "      <th>3</th>\n",
       "      <td>-1.571007</td>\n",
       "      <td>-1.471960</td>\n",
       "      <td>-1.361238</td>\n",
       "      <td>-0.342393</td>\n",
       "      <td>1.117563</td>\n",
       "      <td>-0.401386</td>\n",
       "      <td>-1.016941</td>\n",
       "      <td>0.602872</td>\n",
       "      <td>-0.702038</td>\n",
       "      <td>-0.882900</td>\n",
       "      <td>-0.974555</td>\n",
       "      <td>-0.725351</td>\n",
       "    </tr>\n",
       "    <tr>\n",
       "      <th>4</th>\n",
       "      <td>0.253107</td>\n",
       "      <td>0.679366</td>\n",
       "      <td>0.827214</td>\n",
       "      <td>0.999360</td>\n",
       "      <td>0.564165</td>\n",
       "      <td>-0.401386</td>\n",
       "      <td>0.997663</td>\n",
       "      <td>-1.619892</td>\n",
       "      <td>1.424425</td>\n",
       "      <td>-0.392356</td>\n",
       "      <td>0.592230</td>\n",
       "      <td>0.298962</td>\n",
       "    </tr>\n",
       "    <tr>\n",
       "      <th>...</th>\n",
       "      <td>...</td>\n",
       "      <td>...</td>\n",
       "      <td>...</td>\n",
       "      <td>...</td>\n",
       "      <td>...</td>\n",
       "      <td>...</td>\n",
       "      <td>...</td>\n",
       "      <td>...</td>\n",
       "      <td>...</td>\n",
       "      <td>...</td>\n",
       "      <td>...</td>\n",
       "      <td>...</td>\n",
       "    </tr>\n",
       "    <tr>\n",
       "      <th>204</th>\n",
       "      <td>0.481121</td>\n",
       "      <td>0.679366</td>\n",
       "      <td>0.827214</td>\n",
       "      <td>0.440296</td>\n",
       "      <td>-1.262046</td>\n",
       "      <td>-0.401386</td>\n",
       "      <td>-1.016941</td>\n",
       "      <td>0.559288</td>\n",
       "      <td>1.424425</td>\n",
       "      <td>-0.882900</td>\n",
       "      <td>-0.974555</td>\n",
       "      <td>0.298962</td>\n",
       "    </tr>\n",
       "    <tr>\n",
       "      <th>205</th>\n",
       "      <td>1.507184</td>\n",
       "      <td>0.679366</td>\n",
       "      <td>-0.267012</td>\n",
       "      <td>2.676552</td>\n",
       "      <td>0.527272</td>\n",
       "      <td>2.491364</td>\n",
       "      <td>0.997663</td>\n",
       "      <td>0.036285</td>\n",
       "      <td>1.424425</td>\n",
       "      <td>0.425216</td>\n",
       "      <td>0.592230</td>\n",
       "      <td>-0.725351</td>\n",
       "    </tr>\n",
       "    <tr>\n",
       "      <th>206</th>\n",
       "      <td>-0.088915</td>\n",
       "      <td>0.679366</td>\n",
       "      <td>0.827214</td>\n",
       "      <td>0.440296</td>\n",
       "      <td>-0.118358</td>\n",
       "      <td>-0.401386</td>\n",
       "      <td>-1.016941</td>\n",
       "      <td>0.472121</td>\n",
       "      <td>-0.702038</td>\n",
       "      <td>0.098187</td>\n",
       "      <td>-0.974555</td>\n",
       "      <td>-0.725351</td>\n",
       "    </tr>\n",
       "    <tr>\n",
       "      <th>207</th>\n",
       "      <td>-0.658950</td>\n",
       "      <td>0.679366</td>\n",
       "      <td>-0.267012</td>\n",
       "      <td>-0.789644</td>\n",
       "      <td>-1.778550</td>\n",
       "      <td>-0.401386</td>\n",
       "      <td>0.997663</td>\n",
       "      <td>-1.009722</td>\n",
       "      <td>-0.702038</td>\n",
       "      <td>-0.228842</td>\n",
       "      <td>-0.974555</td>\n",
       "      <td>2.347588</td>\n",
       "    </tr>\n",
       "    <tr>\n",
       "      <th>208</th>\n",
       "      <td>-0.316929</td>\n",
       "      <td>0.679366</td>\n",
       "      <td>-1.361238</td>\n",
       "      <td>0.104858</td>\n",
       "      <td>-0.819328</td>\n",
       "      <td>-0.401386</td>\n",
       "      <td>-1.016941</td>\n",
       "      <td>0.384954</td>\n",
       "      <td>-0.702038</td>\n",
       "      <td>-0.228842</td>\n",
       "      <td>-0.974555</td>\n",
       "      <td>0.298962</td>\n",
       "    </tr>\n",
       "  </tbody>\n",
       "</table>\n",
       "<p>209 rows × 12 columns</p>\n",
       "</div>"
      ],
      "text/plain": [
       "           X1        X2        X3        X4        X5        X6        X7  \\\n",
       "0    1.735199  0.679366 -1.361238  1.334799 -0.007679 -0.401386  0.997663   \n",
       "1   -1.114978 -1.471960 -1.361238 -0.118768 -0.210591 -0.401386  0.997663   \n",
       "2    0.253107  0.679366 -1.361238 -0.454206  0.287467 -0.401386 -1.016941   \n",
       "3   -1.571007 -1.471960 -1.361238 -0.342393  1.117563 -0.401386 -1.016941   \n",
       "4    0.253107  0.679366  0.827214  0.999360  0.564165 -0.401386  0.997663   \n",
       "..        ...       ...       ...       ...       ...       ...       ...   \n",
       "204  0.481121  0.679366  0.827214  0.440296 -1.262046 -0.401386 -1.016941   \n",
       "205  1.507184  0.679366 -0.267012  2.676552  0.527272  2.491364  0.997663   \n",
       "206 -0.088915  0.679366  0.827214  0.440296 -0.118358 -0.401386 -1.016941   \n",
       "207 -0.658950  0.679366 -0.267012 -0.789644 -1.778550 -0.401386  0.997663   \n",
       "208 -0.316929  0.679366 -1.361238  0.104858 -0.819328 -0.401386 -1.016941   \n",
       "\n",
       "           X8        X9       X10       X11       X12  \n",
       "0   -0.268800 -0.702038 -0.882900 -0.974555 -0.725351  \n",
       "1    1.125875 -0.702038 -0.392356  0.592230 -0.725351  \n",
       "2   -0.355968 -0.702038 -0.637628 -0.974555 -0.725351  \n",
       "3    0.602872 -0.702038 -0.882900 -0.974555 -0.725351  \n",
       "4   -1.619892  1.424425 -0.392356  0.592230  0.298962  \n",
       "..        ...       ...       ...       ...       ...  \n",
       "204  0.559288  1.424425 -0.882900 -0.974555  0.298962  \n",
       "205  0.036285  1.424425  0.425216  0.592230 -0.725351  \n",
       "206  0.472121 -0.702038  0.098187 -0.974555 -0.725351  \n",
       "207 -1.009722 -0.702038 -0.228842 -0.974555  2.347588  \n",
       "208  0.384954 -0.702038 -0.228842 -0.974555  0.298962  \n",
       "\n",
       "[209 rows x 12 columns]"
      ]
     },
     "execution_count": 8,
     "metadata": {},
     "output_type": "execute_result"
    }
   ],
   "source": [
    "pd.DataFrame(X_train, columns=data.columns[:-1])"
   ]
  },
  {
   "cell_type": "markdown",
   "metadata": {},
   "source": [
    "### Logistic Regression Model"
   ]
  },
  {
   "cell_type": "markdown",
   "metadata": {},
   "source": [
    "🚀 <font color='#d9c4b1'> Exercise: </font> Fit a standard logistic regression model and determine which features look most promising."
   ]
  },
  {
   "cell_type": "code",
   "execution_count": 9,
   "metadata": {},
   "outputs": [],
   "source": [
    "from sklearn.linear_model import LogisticRegression\n",
    "model = LogisticRegression(penalty='none')"
   ]
  },
  {
   "cell_type": "code",
   "execution_count": 10,
   "metadata": {},
   "outputs": [],
   "source": [
    "complex_model=model.fit(X_train, y_train.values.ravel())"
   ]
  },
  {
   "cell_type": "markdown",
   "metadata": {},
   "source": [
    "#### Determining feature importance"
   ]
  },
  {
   "cell_type": "code",
   "execution_count": 11,
   "metadata": {},
   "outputs": [
    {
     "data": {
      "text/plain": [
       "array([ 0.07546429,  0.58467449,  0.86366748,  0.26114435,  0.11270334,\n",
       "       -0.51808234,  0.25679271, -0.26717581,  0.58641758,  0.68859559,\n",
       "        0.37278552,  1.15178896])"
      ]
     },
     "execution_count": 11,
     "metadata": {},
     "output_type": "execute_result"
    }
   ],
   "source": [
    "complex_model.coef_[0]"
   ]
  },
  {
   "cell_type": "code",
   "execution_count": 12,
   "metadata": {},
   "outputs": [
    {
     "data": {
      "text/plain": [
       "X12    1.151789\n",
       "X3     0.863667\n",
       "X10    0.688596\n",
       "X9     0.586418\n",
       "X2     0.584674\n",
       "X6     0.518082\n",
       "X11    0.372786\n",
       "X8     0.267176\n",
       "X4     0.261144\n",
       "X7     0.256793\n",
       "X5     0.112703\n",
       "X1     0.075464\n",
       "dtype: float64"
      ]
     },
     "execution_count": 12,
     "metadata": {},
     "output_type": "execute_result"
    }
   ],
   "source": [
    "pd.Series(np.abs(complex_model.coef_[0]), index=data.columns[:-1]).sort_values(ascending=False)"
   ]
  },
  {
   "cell_type": "code",
   "execution_count": 13,
   "metadata": {},
   "outputs": [
    {
     "data": {
      "text/plain": [
       "array([False, False, False, False, False, False, False,  True, False,\n",
       "        True])"
      ]
     },
     "execution_count": 13,
     "metadata": {},
     "output_type": "execute_result"
    }
   ],
   "source": [
    "y_hat = complex_model.predict(X_test)\n",
    "y_hat[:10]"
   ]
  },
  {
   "cell_type": "code",
   "execution_count": 14,
   "metadata": {},
   "outputs": [
    {
     "data": {
      "text/plain": [
       "array([[0.86, 0.14],\n",
       "       [0.56, 0.44],\n",
       "       [0.84, 0.16],\n",
       "       [0.8 , 0.2 ],\n",
       "       [0.98, 0.02],\n",
       "       [0.8 , 0.2 ],\n",
       "       [0.91, 0.09],\n",
       "       [0.46, 0.54],\n",
       "       [0.97, 0.03],\n",
       "       [0.11, 0.89]])"
      ]
     },
     "execution_count": 14,
     "metadata": {},
     "output_type": "execute_result"
    }
   ],
   "source": [
    "y_prob = complex_model.predict_proba(X_test)\n",
    "np.around(y_prob[:10,:], 2)"
   ]
  },
  {
   "cell_type": "markdown",
   "metadata": {},
   "source": [
    "`X12`and`X3` are the most important features for classifying whether someone will get a heart attack or not."
   ]
  },
  {
   "cell_type": "markdown",
   "metadata": {},
   "source": [
    "### Simpler Model"
   ]
  },
  {
   "cell_type": "markdown",
   "metadata": {},
   "source": [
    "🚀 <font color='#d9c4b1'> Exercise: </font> Fit another model that includes only the features that you think look promising. Use cross validation and the accuracy, precision, and recall scoring metrics to determine which model is best."
   ]
  },
  {
   "cell_type": "code",
   "execution_count": 15,
   "metadata": {},
   "outputs": [],
   "source": [
    "# fit the model with X12 and X3\n",
    "simple_model=model.fit(X_train[:,[11,2]],y_train.values.ravel())"
   ]
  },
  {
   "cell_type": "code",
   "execution_count": 16,
   "metadata": {},
   "outputs": [
    {
     "data": {
      "text/plain": [
       "array([False,  True,  True, False, False, False, False, False, False,\n",
       "       False])"
      ]
     },
     "execution_count": 16,
     "metadata": {},
     "output_type": "execute_result"
    }
   ],
   "source": [
    "y_pred = simple_model.predict(X_test[:,[11,2]])\n",
    "y_pred[:10]"
   ]
  },
  {
   "cell_type": "code",
   "execution_count": 17,
   "metadata": {},
   "outputs": [
    {
     "data": {
      "text/plain": [
       "array([[0.53, 0.47],\n",
       "       [0.5 , 0.5 ],\n",
       "       [0.22, 0.78],\n",
       "       [0.53, 0.47],\n",
       "       [0.92, 0.08],\n",
       "       [0.53, 0.47],\n",
       "       [0.92, 0.08],\n",
       "       [0.53, 0.47],\n",
       "       [0.92, 0.08],\n",
       "       [0.53, 0.47]])"
      ]
     },
     "execution_count": 17,
     "metadata": {},
     "output_type": "execute_result"
    }
   ],
   "source": [
    "y_prob = simple_model.predict_proba(X_test[:,[11,2]])\n",
    "np.around(y_prob[:10,:], 2)"
   ]
  },
  {
   "cell_type": "markdown",
   "metadata": {},
   "source": [
    "### Model evaluation"
   ]
  },
  {
   "cell_type": "code",
   "execution_count": 18,
   "metadata": {},
   "outputs": [
    {
     "data": {
      "text/html": [
       "<div>\n",
       "<style scoped>\n",
       "    .dataframe tbody tr th:only-of-type {\n",
       "        vertical-align: middle;\n",
       "    }\n",
       "\n",
       "    .dataframe tbody tr th {\n",
       "        vertical-align: top;\n",
       "    }\n",
       "\n",
       "    .dataframe thead th {\n",
       "        text-align: right;\n",
       "    }\n",
       "</style>\n",
       "<table border=\"1\" class=\"dataframe\">\n",
       "  <thead>\n",
       "    <tr style=\"text-align: right;\">\n",
       "      <th></th>\n",
       "      <th>pred0</th>\n",
       "      <th>pred1</th>\n",
       "    </tr>\n",
       "  </thead>\n",
       "  <tbody>\n",
       "    <tr>\n",
       "      <th>actual0</th>\n",
       "      <td>44</td>\n",
       "      <td>7</td>\n",
       "    </tr>\n",
       "    <tr>\n",
       "      <th>actual1</th>\n",
       "      <td>13</td>\n",
       "      <td>26</td>\n",
       "    </tr>\n",
       "  </tbody>\n",
       "</table>\n",
       "</div>"
      ],
      "text/plain": [
       "         pred0  pred1\n",
       "actual0     44      7\n",
       "actual1     13     26"
      ]
     },
     "execution_count": 18,
     "metadata": {},
     "output_type": "execute_result"
    }
   ],
   "source": [
    "from sklearn.metrics import confusion_matrix \n",
    "c_model = confusion_matrix(y_test, y_hat)\n",
    "s_model=confusion_matrix(y_test, y_pred)\n",
    "\n",
    "pd.DataFrame(c_model, index=['actual0','actual1'], columns=['pred0','pred1'])"
   ]
  },
  {
   "cell_type": "code",
   "execution_count": 19,
   "metadata": {},
   "outputs": [
    {
     "data": {
      "text/html": [
       "<div>\n",
       "<style scoped>\n",
       "    .dataframe tbody tr th:only-of-type {\n",
       "        vertical-align: middle;\n",
       "    }\n",
       "\n",
       "    .dataframe tbody tr th {\n",
       "        vertical-align: top;\n",
       "    }\n",
       "\n",
       "    .dataframe thead th {\n",
       "        text-align: right;\n",
       "    }\n",
       "</style>\n",
       "<table border=\"1\" class=\"dataframe\">\n",
       "  <thead>\n",
       "    <tr style=\"text-align: right;\">\n",
       "      <th></th>\n",
       "      <th>pred0</th>\n",
       "      <th>pred1</th>\n",
       "    </tr>\n",
       "  </thead>\n",
       "  <tbody>\n",
       "    <tr>\n",
       "      <th>actual0</th>\n",
       "      <td>43</td>\n",
       "      <td>8</td>\n",
       "    </tr>\n",
       "    <tr>\n",
       "      <th>actual1</th>\n",
       "      <td>19</td>\n",
       "      <td>20</td>\n",
       "    </tr>\n",
       "  </tbody>\n",
       "</table>\n",
       "</div>"
      ],
      "text/plain": [
       "         pred0  pred1\n",
       "actual0     43      8\n",
       "actual1     19     20"
      ]
     },
     "execution_count": 19,
     "metadata": {},
     "output_type": "execute_result"
    }
   ],
   "source": [
    "pd.DataFrame(s_model, index=['actual0','actual1'], columns=['pred0','pred1'])"
   ]
  },
  {
   "cell_type": "markdown",
   "metadata": {},
   "source": [
    "#### a) Classification accuracy"
   ]
  },
  {
   "cell_type": "code",
   "execution_count": 20,
   "metadata": {},
   "outputs": [
    {
     "data": {
      "text/plain": [
       "-0.8138095238095238"
      ]
     },
     "execution_count": 20,
     "metadata": {},
     "output_type": "execute_result"
    }
   ],
   "source": [
    "from sklearn.model_selection import cross_val_score\n",
    "\n",
    "complex_scoring= cross_val_score(estimator=complex_model, X=X_train, y=y_train.values.ravel(), scoring='accuracy', cv=10)\n",
    "-complex_scoring.mean()"
   ]
  },
  {
   "cell_type": "code",
   "execution_count": 21,
   "metadata": {},
   "outputs": [
    {
     "data": {
      "text/plain": [
       "-0.8138095238095238"
      ]
     },
     "execution_count": 21,
     "metadata": {},
     "output_type": "execute_result"
    }
   ],
   "source": [
    "simple_accuracy = cross_val_score(estimator=simple_model, X=X_train, y=y_train.values.ravel(), scoring=\"accuracy\", cv=10)\n",
    "-simple_accuracy.mean()"
   ]
  },
  {
   "cell_type": "markdown",
   "metadata": {},
   "source": [
    "#### b) Classification precision"
   ]
  },
  {
   "cell_type": "code",
   "execution_count": 22,
   "metadata": {},
   "outputs": [
    {
     "data": {
      "text/plain": [
       "-0.8233469308469308"
      ]
     },
     "execution_count": 22,
     "metadata": {},
     "output_type": "execute_result"
    }
   ],
   "source": [
    "complex_scoring= cross_val_score(estimator=complex_model, X=X_train, y=y_train.values.ravel(), scoring='precision', cv=10)\n",
    "-complex_scoring.mean()"
   ]
  },
  {
   "cell_type": "code",
   "execution_count": 23,
   "metadata": {},
   "outputs": [
    {
     "data": {
      "text/plain": [
       "-0.8233469308469308"
      ]
     },
     "execution_count": 23,
     "metadata": {},
     "output_type": "execute_result"
    }
   ],
   "source": [
    "simple_accuracy = cross_val_score(estimator=simple_model, X=X_train, y=y_train.values.ravel(), scoring='precision', cv=10)\n",
    "-simple_accuracy.mean()"
   ]
  },
  {
   "cell_type": "markdown",
   "metadata": {},
   "source": [
    "#### c) Classification recall"
   ]
  },
  {
   "cell_type": "code",
   "execution_count": 24,
   "metadata": {},
   "outputs": [
    {
     "data": {
      "text/plain": [
       "-0.7877777777777778"
      ]
     },
     "execution_count": 24,
     "metadata": {},
     "output_type": "execute_result"
    }
   ],
   "source": [
    "complex_scoring= cross_val_score(estimator=complex_model, X=X_train, y=y_train.values.ravel(), scoring='recall', cv=10)\n",
    "-complex_scoring.mean()"
   ]
  },
  {
   "cell_type": "code",
   "execution_count": 25,
   "metadata": {},
   "outputs": [
    {
     "data": {
      "text/plain": [
       "-0.7877777777777778"
      ]
     },
     "execution_count": 25,
     "metadata": {},
     "output_type": "execute_result"
    }
   ],
   "source": [
    "simple_accuracy = cross_val_score(estimator=simple_model, X=X_train, y=y_train.values.ravel(), scoring='recall', cv=10)\n",
    "-simple_accuracy.mean()"
   ]
  },
  {
   "cell_type": "markdown",
   "metadata": {},
   "source": [
    "The complex and simple model have the same accuracy, precision and recall metrics"
   ]
  }
 ],
 "metadata": {
  "kernelspec": {
   "display_name": "Python 3 (ipykernel)",
   "language": "python",
   "name": "python3"
  },
  "language_info": {
   "codemirror_mode": {
    "name": "ipython",
    "version": 3
   },
   "file_extension": ".py",
   "mimetype": "text/x-python",
   "name": "python",
   "nbconvert_exporter": "python",
   "pygments_lexer": "ipython3",
   "version": "3.10.1"
  }
 },
 "nbformat": 4,
 "nbformat_minor": 2
}
